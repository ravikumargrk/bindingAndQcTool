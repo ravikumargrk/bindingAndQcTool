{
 "cells": [
  {
   "cell_type": "code",
   "execution_count": 1,
   "metadata": {},
   "outputs": [
    {
     "data": {
      "text/plain": [
       "{'super heater exists': True,\n",
       " 'Boiler type [RG=1, FBC=2]': 1,\n",
       " 'fuel totaliser unit': 'KG',\n",
       " 'steam totaliser unit': 'KG',\n",
       " 'water totaliser unit': 'KG',\n",
       " 'load brackets': 5,\n",
       " 'Number of grates/beds': 2,\n",
       " 'ROTARY FEEDER': {'instances': 1},\n",
       " 'DUST COLLECTOR': {'instances': 1, 'RAV': {'instances': 1}},\n",
       " 'ASH SCREW': {'instances': 1},\n",
       " 'FD FAN': {'instances': 1},\n",
       " 'FW PUMP': {'instances': 1},\n",
       " 'SECONDARY DAMPER': {'instances': 1},\n",
       " 'SCREW FEEDER': {'instances': 1},\n",
       " 'GT SCREW': {'instances': 1},\n",
       " 'BOOSTER FAN': {'instances': 1},\n",
       " 'PRIMARY DAMPER': {'instances': 1},\n",
       " 'SECONDARY FD FAN': {'instances': 1},\n",
       " 'BUCKET ELEVATOR': {'instances': 1},\n",
       " 'FEED WATER PUMP': {'instances': 1},\n",
       " 'SLAT CONVEYOR': {'instances': 1},\n",
       " 'RAM PUSHER': {'instances': 1},\n",
       " 'DUST EXTRACTION FAN': {'instances': 1},\n",
       " 'FUEL SCREW': {'instances': 1},\n",
       " 'SA FAN': {'instances': 1},\n",
       " 'CRUSHER': {'instances': 1},\n",
       " 'HYDRAULIC POWER PACK': {'instances': 1},\n",
       " 'GRATE': {'TROLLEY': {'instances': 1}}}"
      ]
     },
     "execution_count": 1,
     "metadata": {},
     "output_type": "execute_result"
    }
   ],
   "source": [
    "from tools import bindingAndQC\n",
    "bindingAndQC.config"
   ]
  },
  {
   "cell_type": "code",
   "execution_count": 4,
   "metadata": {},
   "outputs": [],
   "source": [
    "config = {\n",
    "    'super heater exists': True,\n",
    "    'Boiler type [RG=1, FBC=2]': 2,\n",
    "    'fuel totaliser unit': 'KG',\n",
    "    'steam totaliser unit': 'KG',\n",
    "    'water totaliser unit': 'KG',\n",
    "    'load brackets': 5,\n",
    "    'Number of grates/beds': 1,\n",
    "    'ROTARY FEEDER': {'instances': 1},\n",
    "    'DUST COLLECTOR': {\n",
    "        'instances': 1, \n",
    "        'RAV': {'instances': 1}\n",
    "        },\n",
    "    'ASH SCREW': {'instances': 1},\n",
    "    'FD FAN': {'instances': 1},\n",
    "    'FW PUMP': {'instances': 1},\n",
    "    'SECONDARY DAMPER': {'instances': 1},\n",
    "    'SCREW FEEDER': {'instances': 1},\n",
    "    'GT SCREW': {'instances': 1},\n",
    "    'BOOSTER FAN': {'instances': 1},\n",
    "    'PRIMARY DAMPER': {'instances': 1},\n",
    "    'SECONDARY FD FAN': {'instances': 1},\n",
    "    'BUCKET ELEVATOR': {'instances': 1},\n",
    "    'FEED WATER PUMP': {'instances': 1},\n",
    "    'SLAT CONVEYOR': {'instances': 1},\n",
    "    'RAM PUSHER': {'instances': 1},\n",
    "    'DUST EXTRACTION FAN': {'instances': 1},\n",
    "    'FUEL SCREW': {'instances': 1},\n",
    "    'SA FAN': {'instances': 1},\n",
    "    'CRUSHER': {'instances': 1},\n",
    "    'HYDRAULIC POWER PACK': {'instances': 1},\n",
    "    'GRATE': {\n",
    "        'TROLLEY': {'instances': 3}\n",
    "        }\n",
    "    }\n",
    "\n",
    "result = bindingAndQC.generateTemplate(config, 'SITE_TAG_BINDING2')"
   ]
  },
  {
   "cell_type": "code",
   "execution_count": 3,
   "metadata": {},
   "outputs": [],
   "source": [
    "result2 = bindingAndQC.generateMetaData('SITE_TAG_BINDING', result['meta'], 'SITE_META_DATA')"
   ]
  },
  {
   "cell_type": "code",
   "execution_count": 4,
   "metadata": {},
   "outputs": [],
   "source": [
    "result3 = bindingAndQC.getMissingTags('SITE_TAG_BINDING', result['matrix'], 'SITE_QC')"
   ]
  },
  {
   "cell_type": "code",
   "execution_count": null,
   "metadata": {},
   "outputs": [],
   "source": []
  }
 ],
 "metadata": {
  "kernelspec": {
   "display_name": "Python 3.9.13 64-bit (microsoft store)",
   "language": "python",
   "name": "python3"
  },
  "language_info": {
   "codemirror_mode": {
    "name": "ipython",
    "version": 3
   },
   "file_extension": ".py",
   "mimetype": "text/x-python",
   "name": "python",
   "nbconvert_exporter": "python",
   "pygments_lexer": "ipython3",
   "version": "3.9.13"
  },
  "orig_nbformat": 4,
  "vscode": {
   "interpreter": {
    "hash": "8a2ce7491f9b5f9732c6ee31ebc89678243af2877a815688441f95c5d26387e0"
   }
  }
 },
 "nbformat": 4,
 "nbformat_minor": 2
}
