{
 "cells": [
  {
   "cell_type": "code",
   "execution_count": 1,
   "metadata": {},
   "outputs": [],
   "source": [
    "import pandas as pd\n",
    "standardMetaMatrix = pd.read_excel('standardMetaMatrix-backCompatible.xlsx', header=[0,1,2,3,4])\n",
    "\n",
    "import dill\n",
    "\n",
    "with open('tools\\\\standardMetaMatrix.bin', 'wb') as outf:\n",
    "    dill.dump(standardMetaMatrix, outf, recurse=True)\n",
    "    outf.close()"
   ]
  },
  {
   "cell_type": "code",
   "execution_count": null,
   "metadata": {},
   "outputs": [],
   "source": []
  }
 ],
 "metadata": {
  "kernelspec": {
   "display_name": "Python 3.9.13 64-bit (microsoft store)",
   "language": "python",
   "name": "python3"
  },
  "language_info": {
   "codemirror_mode": {
    "name": "ipython",
    "version": 3
   },
   "file_extension": ".py",
   "mimetype": "text/x-python",
   "name": "python",
   "nbconvert_exporter": "python",
   "pygments_lexer": "ipython3",
   "version": "3.9.13"
  },
  "orig_nbformat": 4,
  "vscode": {
   "interpreter": {
    "hash": "8a2ce7491f9b5f9732c6ee31ebc89678243af2877a815688441f95c5d26387e0"
   }
  }
 },
 "nbformat": 4,
 "nbformat_minor": 2
}
